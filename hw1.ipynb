{
 "cells": [
  {
   "cell_type": "markdown",
   "id": "99df5fc6-cea3-4221-bc93-a1dd6d02a064",
   "metadata": {},
   "source": [
    "# Homework 1"
   ]
  },
  {
   "cell_type": "code",
   "execution_count": 1,
   "id": "2b7918b4-e7dd-4675-ab38-3c7894477917",
   "metadata": {},
   "outputs": [],
   "source": [
    "import pandas as pd\n",
    "import numpy as np\n",
    "import matplotlib.pyplot as plt\n",
    "from io import StringIO"
   ]
  },
  {
   "cell_type": "code",
   "execution_count": 2,
   "id": "5fcbfc57-f454-41e0-a89d-3fe8d0ffd3d1",
   "metadata": {},
   "outputs": [
    {
     "data": {
      "text/html": [
       "<div>\n",
       "<style scoped>\n",
       "    .dataframe tbody tr th:only-of-type {\n",
       "        vertical-align: middle;\n",
       "    }\n",
       "\n",
       "    .dataframe tbody tr th {\n",
       "        vertical-align: top;\n",
       "    }\n",
       "\n",
       "    .dataframe thead th {\n",
       "        text-align: right;\n",
       "    }\n",
       "</style>\n",
       "<table border=\"1\" class=\"dataframe\">\n",
       "  <thead>\n",
       "    <tr style=\"text-align: right;\">\n",
       "      <th></th>\n",
       "      <th>ID</th>\n",
       "      <th>x</th>\n",
       "      <th>y</th>\n",
       "      <th>sigma_y</th>\n",
       "      <th>sigma_x</th>\n",
       "      <th>rho_xy</th>\n",
       "    </tr>\n",
       "  </thead>\n",
       "  <tbody>\n",
       "    <tr>\n",
       "      <td>0</td>\n",
       "      <td>1</td>\n",
       "      <td>201</td>\n",
       "      <td>592</td>\n",
       "      <td>61</td>\n",
       "      <td>9</td>\n",
       "      <td>-0.84</td>\n",
       "    </tr>\n",
       "    <tr>\n",
       "      <td>1</td>\n",
       "      <td>2</td>\n",
       "      <td>244</td>\n",
       "      <td>401</td>\n",
       "      <td>25</td>\n",
       "      <td>4</td>\n",
       "      <td>0.31</td>\n",
       "    </tr>\n",
       "    <tr>\n",
       "      <td>2</td>\n",
       "      <td>3</td>\n",
       "      <td>47</td>\n",
       "      <td>583</td>\n",
       "      <td>38</td>\n",
       "      <td>11</td>\n",
       "      <td>0.64</td>\n",
       "    </tr>\n",
       "    <tr>\n",
       "      <td>3</td>\n",
       "      <td>4</td>\n",
       "      <td>287</td>\n",
       "      <td>402</td>\n",
       "      <td>15</td>\n",
       "      <td>7</td>\n",
       "      <td>-0.27</td>\n",
       "    </tr>\n",
       "    <tr>\n",
       "      <td>4</td>\n",
       "      <td>5</td>\n",
       "      <td>203</td>\n",
       "      <td>495</td>\n",
       "      <td>21</td>\n",
       "      <td>5</td>\n",
       "      <td>-0.33</td>\n",
       "    </tr>\n",
       "  </tbody>\n",
       "</table>\n",
       "</div>"
      ],
      "text/plain": [
       "   ID    x    y  sigma_y  sigma_x  rho_xy\n",
       "0   1  201  592       61        9   -0.84\n",
       "1   2  244  401       25        4    0.31\n",
       "2   3   47  583       38       11    0.64\n",
       "3   4  287  402       15        7   -0.27\n",
       "4   5  203  495       21        5   -0.33"
      ]
     },
     "execution_count": 2,
     "metadata": {},
     "output_type": "execute_result"
    }
   ],
   "source": [
    "# Data: rows 5 through 20 in Table 1\n",
    "# (copy-pasted from the PDF)\n",
    "data_str = StringIO(\"\"\"\n",
    "1 201 592 61 9 -0.84\n",
    "2 244 401 25 4 0.31\n",
    "3 47 583 38 11 0.64\n",
    "4 287 402 15 7 -0.27\n",
    "5 203 495 21 5 -0.33\n",
    "6 58 173 15 9 0.67\n",
    "7 210 479 27 4 -0.02\n",
    "8 202 504 14 4 -0.05\n",
    "9 198 510 30 11 -0.84\n",
    "10 158 416 16 7 -0.69\n",
    "11 165 393 14 5 0.30\n",
    "12 201 442 25 5 -0.46\n",
    "13 157 317 52 5 -0.03\n",
    "14 131 311 16 6 0.50\n",
    "15 166 400 34 6 0.73\n",
    "16 160 337 31 5 -0.52\n",
    "17 186 423 42 9 0.90\n",
    "18 125 334 26 8 0.40\n",
    "19 218 533 16 6 -0.78\n",
    "20 146 344 22 5 -0.56\n",
    "\"\"\")\n",
    "\n",
    "df = pd.read_csv(\n",
    "    data_str,\n",
    "    names=['ID','x','y','sigma_y','sigma_x','rho_xy'],\n",
    "    delim_whitespace=True\n",
    ")\n",
    "\n",
    "df.head()"
   ]
  },
  {
   "cell_type": "markdown",
   "id": "8264304c-d66a-4a30-a81b-64cd02eb1c68",
   "metadata": {},
   "source": [
    "## Exercise 1"
   ]
  },
  {
   "cell_type": "code",
   "execution_count": 3,
   "id": "9be38d5d-acda-40ae-8a70-c6908724c502",
   "metadata": {},
   "outputs": [],
   "source": [
    "# cut the first four off\n",
    "ex1_data = df.iloc[4:]"
   ]
  },
  {
   "cell_type": "code",
   "execution_count": 4,
   "id": "6b794235-6425-4a4a-8784-690d8f13ff28",
   "metadata": {},
   "outputs": [],
   "source": [
    "def lin_regress(x, y, sigma_y):\n",
    "    N = len(x)\n",
    "    \n",
    "    A = np.ones((N, 2))\n",
    "    A[:, 1] = x\n",
    "    \n",
    "    Y = np.ones((N, 1))\n",
    "    Y[:, 0] = y\n",
    "    \n",
    "    C_inv = np.ones((N, 1))\n",
    "    C_inv[:, 0] = 1. / (sigma_y ** 2)\n",
    "    \n",
    "    theta = np.linalg.solve(A.T @ (C_inv * A), A.T @ (C_inv * Y))\n",
    "    cov = np.linalg.inv(A.T @ (C_inv * A))\n",
    "    \n",
    "    return theta, cov"
   ]
  },
  {
   "cell_type": "code",
   "execution_count": 5,
   "id": "f3b3c71d-99c0-4862-8480-cee065c55117",
   "metadata": {},
   "outputs": [
    {
     "name": "stdout",
     "output_type": "stream",
     "text": [
      "Parameters:\n",
      "[[34.0477]\n",
      " [ 2.2399]]\n",
      "\n",
      "Covariance matrix:\n",
      "[[332.9226  -1.8895]\n",
      " [ -1.8895   0.0116]]\n"
     ]
    }
   ],
   "source": [
    "theta, cov = lin_regress(ex1_data['x'].values,\n",
    "                         ex1_data['y'].values,\n",
    "                         ex1_data['sigma_y'].values)\n",
    "\n",
    "b, m = theta.T[0]\n",
    "\n",
    "with np.printoptions(suppress=True, precision=4):\n",
    "    print('Parameters:')\n",
    "    print(theta)\n",
    "    print()\n",
    "    print('Covariance matrix:')\n",
    "    print(cov)"
   ]
  },
  {
   "cell_type": "markdown",
   "id": "6dd2f57b-887c-4789-bd17-0c7d2140b56a",
   "metadata": {},
   "source": [
    "The above gives that $b = 34.05$, $m = 2.24$.\n",
    "\n",
    "We can also see that $\\sigma^2_m = 0.0116$."
   ]
  },
  {
   "cell_type": "code",
   "execution_count": 6,
   "id": "872bd396-1564-4acd-8faa-d6c322135f31",
   "metadata": {},
   "outputs": [
    {
     "data": {
      "image/png": "[encoded data removed]",
      "text/plain": [
       "<Figure size 504x288 with 1 Axes>"
      ]
     },
     "metadata": {
      "needs_background": "light"
     },
     "output_type": "display_data"
    }
   ],
   "source": [
    "plt.figure(figsize=(7, 4))\n",
    "\n",
    "xvals = np.linspace(0, 300, 100)\n",
    "plt.plot(xvals, m * xvals + b)\n",
    "\n",
    "plt.errorbar(ex1_data['x'], ex1_data['y'],\n",
    "             yerr=ex1_data['sigma_y'], fmt='o')\n",
    "\n",
    "plt.xlim(0, 300)\n",
    "plt.ylim(0, 700)\n",
    "\n",
    "plt.xlabel('$x$')\n",
    "plt.ylabel('$y$')\n",
    "\n",
    "plt.grid(ls=':')\n",
    "\n",
    "plt.text(120, 150, f\"Fit: $y = {m:.2f} x + {b:.2f}$\", fontsize=12)\n",
    "\n",
    "plt.tight_layout()\n",
    "\n",
    "plt.show()"
   ]
  },
  {
   "cell_type": "markdown",
   "id": "ee4e780b-68e2-4ae1-9c96-c80a467a7184",
   "metadata": {},
   "source": [
    "## Exercise 2"
   ]
  },
  {
   "cell_type": "code",
   "execution_count": 7,
   "id": "52747f51-aa74-4587-9579-7bf7e39570d9",
   "metadata": {},
   "outputs": [],
   "source": [
    "# cut the first four off\n",
    "ex2_data = df.iloc[:]"
   ]
  },
  {
   "cell_type": "code",
   "execution_count": 8,
   "id": "0b6b7bb6-ff10-4a19-9bf6-ed81b9dc336c",
   "metadata": {},
   "outputs": [
    {
     "name": "stdout",
     "output_type": "stream",
     "text": [
      "Parameters:\n",
      "[[213.2735]\n",
      " [  1.0767]]\n",
      "\n",
      "Covariance matrix:\n",
      "[[207.1882  -1.0543]\n",
      " [ -1.0543   0.006 ]]\n"
     ]
    }
   ],
   "source": [
    "theta, cov = lin_regress(ex2_data['x'].values,\n",
    "                         ex2_data['y'].values,\n",
    "                         ex2_data['sigma_y'].values)\n",
    "\n",
    "b, m = theta.T[0]\n",
    "\n",
    "with np.printoptions(suppress=True, precision=4):\n",
    "    print('Parameters:')\n",
    "    print(theta)\n",
    "    print()\n",
    "    print('Covariance matrix:')\n",
    "    print(cov)"
   ]
  },
  {
   "cell_type": "markdown",
   "id": "cba502a0-0238-4869-a833-ffa3a608ff80",
   "metadata": {},
   "source": [
    "From the above matrix, we can read off $\\sigma_m^2 = 0.00599$."
   ]
  },
  {
   "cell_type": "code",
   "execution_count": 9,
   "id": "43008393-fe1f-4028-b5e2-8dc6311f15c6",
   "metadata": {},
   "outputs": [
    {
     "data": {
      "image/png": "[encoded data removed]",
      "text/plain": [
       "<Figure size 504x288 with 1 Axes>"
      ]
     },
     "metadata": {
      "needs_background": "light"
     },
     "output_type": "display_data"
    }
   ],
   "source": [
    "plt.figure(figsize=(7, 4))\n",
    "\n",
    "xvals = np.linspace(0, 300, 100)\n",
    "plt.plot(xvals, m * xvals + b)\n",
    "\n",
    "plt.errorbar(ex2_data['x'], ex2_data['y'],\n",
    "             yerr=ex2_data['sigma_y'], fmt='o')\n",
    "\n",
    "plt.xlim(0, 300)\n",
    "plt.ylim(0, 700)\n",
    "\n",
    "plt.xlabel('$x$')\n",
    "plt.ylabel('$y$')\n",
    "\n",
    "plt.grid(ls=':')\n",
    "\n",
    "plt.text(120, 150, f\"Fit: $y = {m:.2f} x + {b:.2f}$\", fontsize=12)\n",
    "\n",
    "plt.tight_layout()\n",
    "\n",
    "plt.show()"
   ]
  },
  {
   "cell_type": "markdown",
   "id": "73c5f963-fe33-4948-aee3-db979ffdcb81",
   "metadata": {},
   "source": [
    "I don't really like the fact that the best fit line _looks_ worse, but the slope has a _smaller_ uncertainty than in exercise 1.\n",
    "\n",
    "The only real differences about the new points are that they live pretty far off of the best fit line seen in Exercise 1. Three of the four also live outside the _range_ of the original data."
   ]
  },
  {
   "cell_type": "markdown",
   "id": "c8e3264d-a034-4587-a978-5f6d1e7d6ac4",
   "metadata": {},
   "source": [
    "## Exercise 3"
   ]
  },
  {
   "cell_type": "code",
   "execution_count": 10,
   "id": "fff90c23-fcf9-4561-b1e4-c4209ab4e27c",
   "metadata": {},
   "outputs": [],
   "source": [
    "# cut the first four off\n",
    "ex3_data = df.iloc[4:]"
   ]
  },
  {
   "cell_type": "code",
   "execution_count": 11,
   "id": "027f9afa-03f7-440d-bbb0-5733d6f3dfff",
   "metadata": {},
   "outputs": [],
   "source": [
    "def quad_regress(x, y, sigma_y):\n",
    "    N = len(x)\n",
    "    \n",
    "    A = np.ones((N, 3))\n",
    "    A[:, 1] = x\n",
    "    A[:, 2] = x ** 2\n",
    "    \n",
    "    Y = np.ones((N, 1))\n",
    "    Y[:, 0] = y\n",
    "    \n",
    "    C_inv = np.ones((N, 1))\n",
    "    C_inv[:, 0] = 1. / (sigma_y ** 2)\n",
    "    \n",
    "    theta = np.linalg.solve(A.T @ (C_inv * A), A.T @ (C_inv * Y))\n",
    "    cov = np.linalg.inv(A.T @ (C_inv * A))\n",
    "    \n",
    "    return theta, cov"
   ]
  },
  {
   "cell_type": "code",
   "execution_count": 12,
   "id": "46f20917-af49-4d34-83d2-f412e9daff1c",
   "metadata": {},
   "outputs": [
    {
     "name": "stdout",
     "output_type": "stream",
     "text": [
      "Parameters:\n",
      "[[72.8946]\n",
      " [ 1.5961]\n",
      " [ 0.0023]]\n",
      "\n",
      "Covariance matrix:\n",
      "[[1514.1091  -21.4672    0.0699]\n",
      " [ -21.4672    0.3361   -0.0012]\n",
      " [   0.0699   -0.0012    0.    ]]\n"
     ]
    }
   ],
   "source": [
    "theta, cov = quad_regress(ex3_data['x'].values,\n",
    "                          ex3_data['y'].values,\n",
    "                          ex3_data['sigma_y'].values)\n",
    "\n",
    "b, m, q = theta.T[0]\n",
    "\n",
    "with np.printoptions(suppress=True, precision=4):\n",
    "    print('Parameters:')\n",
    "    print(theta)\n",
    "    print()\n",
    "    print('Covariance matrix:')\n",
    "    print(cov)"
   ]
  },
  {
   "cell_type": "markdown",
   "id": "c1015738-bda7-4a51-9f83-0071c15ae161",
   "metadata": {},
   "source": [
    "Uncertainties:\n",
    "- $\\sigma^2_b = 1514.1$\n",
    "- $\\sigma^2_m = 0.3361$\n",
    "- $\\sigma^2_q = 0.00000414$"
   ]
  },
  {
   "cell_type": "code",
   "execution_count": 13,
   "id": "18b45dda-5838-48d6-936d-25f3c70d6ef1",
   "metadata": {},
   "outputs": [
    {
     "data": {
      "image/png": "[encoded data removed]",
      "text/plain": [
       "<Figure size 504x288 with 1 Axes>"
      ]
     },
     "metadata": {
      "needs_background": "light"
     },
     "output_type": "display_data"
    }
   ],
   "source": [
    "plt.figure(figsize=(7, 4))\n",
    "\n",
    "xvals = np.linspace(0, 300, 100)\n",
    "plt.plot(xvals, q * xvals **2 + m * xvals + b)\n",
    "\n",
    "plt.errorbar(ex3_data['x'], ex3_data['y'],\n",
    "             yerr=ex3_data['sigma_y'], fmt='o')\n",
    "\n",
    "plt.xlim(0, 300)\n",
    "plt.ylim(0, 700)\n",
    "\n",
    "plt.xlabel('$x$')\n",
    "plt.ylabel('$y$')\n",
    "\n",
    "plt.grid(ls=':')\n",
    "\n",
    "plt.text(120, 150, f\"Fit: $y = {q:.4f} x^2 + {m:.2f} x + {b:.2f}$\", fontsize=12)\n",
    "\n",
    "plt.tight_layout()\n",
    "\n",
    "plt.show()"
   ]
  },
  {
   "cell_type": "markdown",
   "id": "fcfc4e31-c73f-4bf2-bb58-f4df3b8ff857",
   "metadata": {},
   "source": [
    "## Exercise 8"
   ]
  },
  {
   "cell_type": "code",
   "execution_count": 14,
   "id": "eee7270d-53f3-42b1-aca3-2569688cb8f9",
   "metadata": {},
   "outputs": [
    {
     "name": "stdout",
     "output_type": "stream",
     "text": [
      "Standard result: 1.077\n",
      "Standard variance: 0.0060\n"
     ]
    }
   ],
   "source": [
    "# Standard result\n",
    "theta, cov = lin_regress(ex2_data['x'].values,\n",
    "                         ex2_data['y'].values,\n",
    "                         ex2_data['sigma_y'].values)\n",
    "\n",
    "b_std, m_std = theta.T[0]\n",
    "std_err = cov[1,1]\n",
    "\n",
    "print(f\"Standard result: {m_std:.3f}\")\n",
    "print(f\"Standard variance: {std_err:.4f}\")"
   ]
  },
  {
   "cell_type": "code",
   "execution_count": 15,
   "id": "20f004f0-2f1a-4877-a049-7d2552821cf6",
   "metadata": {},
   "outputs": [
    {
     "name": "stdout",
     "output_type": "stream",
     "text": [
      "Jackknife result: 1.075\n",
      "Jackknife variance: 0.764\n"
     ]
    }
   ],
   "source": [
    "# Jackknife method\n",
    "n = len(ex2_data)\n",
    "ms = np.zeros(n)\n",
    "for i in range(n):\n",
    "    mask = np.ones(n, dtype=bool)\n",
    "    mask[i] = False\n",
    "    \n",
    "    theta, cov = lin_regress(ex2_data['x'].values[mask],\n",
    "                             ex2_data['y'].values[mask],\n",
    "                             ex2_data['sigma_y'].values[mask])\n",
    "\n",
    "    b, m = theta.T[0]\n",
    "    ms[i] = m\n",
    "    \n",
    "jk_avg = np.average(ms)    \n",
    "jk_err = (n - 1) / n * np.sum(np.square(ms - jk_avg))\n",
    "print(f\"Jackknife result: {jk_avg:.3f}\")\n",
    "print(f\"Jackknife variance: {jk_err:.3f}\")"
   ]
  },
  {
   "cell_type": "code",
   "execution_count": 16,
   "id": "d617c94c-feb4-4d53-8ada-d6790de50214",
   "metadata": {},
   "outputs": [
    {
     "name": "stdout",
     "output_type": "stream",
     "text": [
      "Bootstrap average result: 1.096\n",
      "Bootstrap variance: 0.367\n"
     ]
    }
   ],
   "source": [
    "# Bootstrap method\n",
    "n = len(ex2_data)\n",
    "num_trials = 1_000\n",
    "rng = np.random.default_rng()\n",
    "\n",
    "ms = np.zeros(num_trials)\n",
    "for i in range(num_trials):\n",
    "    idx = rng.choice(n, replace=True, size=n)\n",
    "    \n",
    "    theta, cov = lin_regress(ex2_data['x'].values[idx],\n",
    "                             ex2_data['y'].values[idx],\n",
    "                             ex2_data['sigma_y'].values[idx])\n",
    "\n",
    "    b, m = theta.T[0]\n",
    "    ms[i] = m\n",
    "\n",
    "bs_avg = np.average(ms)\n",
    "bs_err = 1 / num_trials * np.sum(np.square(ms - m_std))\n",
    "print(f\"Bootstrap average result: {bs_avg:.3f}\")\n",
    "print(f\"Bootstrap variance: {bs_err:.3f}\")"
   ]
  },
  {
   "cell_type": "code",
   "execution_count": 17,
   "id": "e1b3c9b0-178c-4f1e-9e64-a4aca24f89a2",
   "metadata": {},
   "outputs": [
    {
     "data": {
      "image/png": "[encoded data removed]",
      "text/plain": [
       "<Figure size 504x288 with 1 Axes>"
      ]
     },
     "metadata": {
      "needs_background": "light"
     },
     "output_type": "display_data"
    }
   ],
   "source": [
    "plt.figure(figsize=(7, 4))\n",
    "\n",
    "xvals = np.linspace(0, 300, 100)\n",
    "plt.plot(xvals, m_std * xvals + b_std, label='Linear regression', c='C0')\n",
    "plt.fill_between(xvals, (m_std - np.sqrt(std_err)) * xvals + b_std, (m_std + np.sqrt(std_err)) * xvals + b_std,\n",
    "                 alpha=0.5, label='Standard slope error')\n",
    "plt.fill_between(xvals, (m_std - np.sqrt(jk_err)) * xvals + b_std, (m_std + np.sqrt(jk_err)) * xvals + b_std,\n",
    "                 alpha=0.3, label='Jackknife slope error')\n",
    "plt.fill_between(xvals, (m_std - np.sqrt(bs_err)) * xvals + b_std, (m_std + np.sqrt(bs_err)) * xvals + b_std,\n",
    "                 alpha=0.3, label='Bootstrap slope error')\n",
    "plt.errorbar(ex2_data['x'], ex2_data['y'],\n",
    "             yerr=ex2_data['sigma_y'], fmt='o', c='C4')\n",
    "\n",
    "plt.xlim(0, 300)\n",
    "plt.ylim(0, 700)\n",
    "\n",
    "plt.xlabel('$x$')\n",
    "plt.ylabel('$y$')\n",
    "\n",
    "plt.grid(ls=':')\n",
    "plt.tight_layout()\n",
    "\n",
    "plt.legend(frameon=False, loc='center left', bbox_to_anchor=(1.01, 0.5))\n",
    "\n",
    "plt.show()"
   ]
  },
  {
   "cell_type": "markdown",
   "id": "6c1121ad-f9a1-41c2-bf9f-81a1c7213fc9",
   "metadata": {},
   "source": [
    "I think I like the bootstrap error estimate the most, since most of the data seems to be contained within $1\\sigma$ of the line when we draw $(m \\pm \\sigma_m) x + b$. The Jackknife error appears to be a little too wide, and the standard error contains basically _none_ of the data."
   ]
  }
 ],
 "metadata": {
  "kernelspec": {
   "display_name": "Python 3",
   "language": "python",
   "name": "python3"
  },
  "language_info": {
   "codemirror_mode": {
    "name": "ipython",
    "version": 3
   },
   "file_extension": ".py",
   "mimetype": "text/x-python",
   "name": "python",
   "nbconvert_exporter": "python",
   "pygments_lexer": "ipython3",
   "version": "3.7.4"
  }
 },
 "nbformat": 4,
 "nbformat_minor": 5
}
